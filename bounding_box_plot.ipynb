{
  "nbformat": 4,
  "nbformat_minor": 0,
  "metadata": {
    "colab": {
      "name": "bounding box plot.ipynb",
      "provenance": [],
      "collapsed_sections": []
    },
    "kernelspec": {
      "name": "python3",
      "display_name": "Python 3"
    },
    "language_info": {
      "name": "python"
    }
  },
  "cells": [
    {
      "cell_type": "code",
      "metadata": {
        "id": "2Oq2uNOpCHyg"
      },
      "source": [
        "import cv2\n",
        "import numpy as np\n",
        "import json\n",
        "src = cv2.imread('/content/1044_Pride_And_Prejudice_Disk_Two_02.18.38.888-02.18.46.139@2.jpg')\n",
        "  # cv2.namedWindow('image', cv2.WINDOW_AUTOSIZE)\n",
        "src = np.array(src)\n",
        "json_name = '/content/1044_Pride_And_Prejudice_Disk_Two_02.18.38.888-02.18.46.139@2.json'\n",
        "with open( json_name ) as f:\n",
        "  data=json.load(f)\n",
        "boxes = data['boxes']\n",
        "segms = data['segms']\n",
        "objs = data['names']\n",
        "h, w, _ = src.shape\n",
        "desired_width=768\n",
        "desired_height=384\n",
        "\n",
        "width_scale = desired_width / w\n",
        "height_scale = desired_height / h\n",
        "scale = 1#min(width_scale, height_scale)\n",
        "class_name = objs[0]\n",
        "# b_box 左上角坐标\n",
        "print(boxes[0])\n",
        "# print(ptLeftTop)\n",
        "# 文本框左上角坐标\n",
        "textleftop = []\n",
        "# b_box 右下角坐标\n",
        "# 框的颜色\n",
        "point_color = (0, 300, 0)\n",
        "# 线的厚度\n",
        "thickness = 2\n",
        "# 线的类型\n",
        "lineType = 4\n",
        "for i in range(len(boxes)):\n",
        "    lt = np.array([int(boxes[i][0]/scale), int(boxes[i][1]/scale)])\n",
        "    rd = np.array([int(boxes[i][2]/scale), int(boxes[i][3]/scale)])\n",
        "    img = cv2.rectangle(src, tuple(lt), tuple(rd) , (0, 255, 0), 2)\n",
        "    # 获取文字区域框大小\n",
        "    t_size = cv2.getTextSize(objs[i]+str(i), 1, cv2.FONT_HERSHEY_PLAIN, 2)[0]\n",
        "    # 获取 文字区域右下角坐标\n",
        "    textlbottom = lt + np.array(list(t_size))\n",
        "    # 绘制文字区域矩形框\n",
        "    cv2.rectangle(src, tuple(lt), tuple(textlbottom),  point_color, -1)\n",
        "    # 计算文字起始位置偏移\n",
        "    # pl = int(boxes[i][1]/scale) + (t_size[0]/2 + 4)\n",
        "    lt[1] = lt[1] + (t_size[1]/2 + 25)\n",
        "    # 绘字\n",
        "    cv2.putText(src, objs[i]+str(i),tuple(lt), cv2.FONT_HERSHEY_PLAIN, 3,(255,0,255), 3)#(255,255,255)\n",
        "    print(src.shape)\n",
        "\n",
        "cv2.waitKey(0)\n",
        "cv2.imwrite('/content/3.jpeg', src, [int(cv2.IMWRITE_JPEG_QUALITY),95])\n"
      ],
      "execution_count": null,
      "outputs": []
    }
  ]
}